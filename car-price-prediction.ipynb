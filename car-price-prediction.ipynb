{
 "cells": [
  {
   "cell_type": "code",
   "execution_count": 1,
   "id": "ae670530",
   "metadata": {
    "execution": {
     "iopub.execute_input": "2023-05-04T22:50:11.949833Z",
     "iopub.status.busy": "2023-05-04T22:50:11.948989Z",
     "iopub.status.idle": "2023-05-04T22:50:13.633057Z",
     "shell.execute_reply": "2023-05-04T22:50:13.632015Z"
    },
    "papermill": {
     "duration": 1.696124,
     "end_time": "2023-05-04T22:50:13.635634",
     "exception": false,
     "start_time": "2023-05-04T22:50:11.939510",
     "status": "completed"
    },
    "tags": []
   },
   "outputs": [
    {
     "name": "stderr",
     "output_type": "stream",
     "text": [
      "/opt/conda/lib/python3.10/site-packages/scipy/__init__.py:146: UserWarning: A NumPy version >=1.16.5 and <1.23.0 is required for this version of SciPy (detected version 1.23.5\n",
      "  warnings.warn(f\"A NumPy version >={np_minversion} and <{np_maxversion}\"\n"
     ]
    }
   ],
   "source": [
    "import pandas as pd\n",
    "#import numpy as np\n",
    "import seaborn as sns \n",
    "import matplotlib.pyplot as plt \n",
    "from sklearn.model_selection import train_test_split\n",
    "from sklearn.linear_model import LinearRegression\n",
    "from sklearn.linear_model import Lasso\n",
    "from sklearn import metrics"
   ]
  },
  {
   "cell_type": "code",
   "execution_count": 2,
   "id": "0c5a9897",
   "metadata": {
    "execution": {
     "iopub.execute_input": "2023-05-04T22:50:13.651602Z",
     "iopub.status.busy": "2023-05-04T22:50:13.651143Z",
     "iopub.status.idle": "2023-05-04T22:50:13.731573Z",
     "shell.execute_reply": "2023-05-04T22:50:13.729422Z"
    },
    "papermill": {
     "duration": 0.091936,
     "end_time": "2023-05-04T22:50:13.734783",
     "exception": false,
     "start_time": "2023-05-04T22:50:13.642847",
     "status": "completed"
    },
    "tags": []
   },
   "outputs": [
    {
     "data": {
      "text/html": [
       "<div>\n",
       "<style scoped>\n",
       "    .dataframe tbody tr th:only-of-type {\n",
       "        vertical-align: middle;\n",
       "    }\n",
       "\n",
       "    .dataframe tbody tr th {\n",
       "        vertical-align: top;\n",
       "    }\n",
       "\n",
       "    .dataframe thead th {\n",
       "        text-align: right;\n",
       "    }\n",
       "</style>\n",
       "<table border=\"1\" class=\"dataframe\">\n",
       "  <thead>\n",
       "    <tr style=\"text-align: right;\">\n",
       "      <th></th>\n",
       "      <th>Car_Name</th>\n",
       "      <th>Year</th>\n",
       "      <th>Selling_Price</th>\n",
       "      <th>Present_Price</th>\n",
       "      <th>Kms_Driven</th>\n",
       "      <th>Fuel_Type</th>\n",
       "      <th>Seller_Type</th>\n",
       "      <th>Transmission</th>\n",
       "      <th>Owner</th>\n",
       "    </tr>\n",
       "  </thead>\n",
       "  <tbody>\n",
       "    <tr>\n",
       "      <th>0</th>\n",
       "      <td>ritz</td>\n",
       "      <td>2014</td>\n",
       "      <td>3.35</td>\n",
       "      <td>5.59</td>\n",
       "      <td>27000</td>\n",
       "      <td>Petrol</td>\n",
       "      <td>Dealer</td>\n",
       "      <td>Manual</td>\n",
       "      <td>0</td>\n",
       "    </tr>\n",
       "    <tr>\n",
       "      <th>1</th>\n",
       "      <td>sx4</td>\n",
       "      <td>2013</td>\n",
       "      <td>4.75</td>\n",
       "      <td>9.54</td>\n",
       "      <td>43000</td>\n",
       "      <td>Diesel</td>\n",
       "      <td>Dealer</td>\n",
       "      <td>Manual</td>\n",
       "      <td>0</td>\n",
       "    </tr>\n",
       "    <tr>\n",
       "      <th>2</th>\n",
       "      <td>ciaz</td>\n",
       "      <td>2017</td>\n",
       "      <td>7.25</td>\n",
       "      <td>9.85</td>\n",
       "      <td>6900</td>\n",
       "      <td>Petrol</td>\n",
       "      <td>Dealer</td>\n",
       "      <td>Manual</td>\n",
       "      <td>0</td>\n",
       "    </tr>\n",
       "    <tr>\n",
       "      <th>3</th>\n",
       "      <td>wagon r</td>\n",
       "      <td>2011</td>\n",
       "      <td>2.85</td>\n",
       "      <td>4.15</td>\n",
       "      <td>5200</td>\n",
       "      <td>Petrol</td>\n",
       "      <td>Dealer</td>\n",
       "      <td>Manual</td>\n",
       "      <td>0</td>\n",
       "    </tr>\n",
       "    <tr>\n",
       "      <th>4</th>\n",
       "      <td>swift</td>\n",
       "      <td>2014</td>\n",
       "      <td>4.60</td>\n",
       "      <td>6.87</td>\n",
       "      <td>42450</td>\n",
       "      <td>Diesel</td>\n",
       "      <td>Dealer</td>\n",
       "      <td>Manual</td>\n",
       "      <td>0</td>\n",
       "    </tr>\n",
       "    <tr>\n",
       "      <th>...</th>\n",
       "      <td>...</td>\n",
       "      <td>...</td>\n",
       "      <td>...</td>\n",
       "      <td>...</td>\n",
       "      <td>...</td>\n",
       "      <td>...</td>\n",
       "      <td>...</td>\n",
       "      <td>...</td>\n",
       "      <td>...</td>\n",
       "    </tr>\n",
       "    <tr>\n",
       "      <th>296</th>\n",
       "      <td>city</td>\n",
       "      <td>2016</td>\n",
       "      <td>9.50</td>\n",
       "      <td>11.60</td>\n",
       "      <td>33988</td>\n",
       "      <td>Diesel</td>\n",
       "      <td>Dealer</td>\n",
       "      <td>Manual</td>\n",
       "      <td>0</td>\n",
       "    </tr>\n",
       "    <tr>\n",
       "      <th>297</th>\n",
       "      <td>brio</td>\n",
       "      <td>2015</td>\n",
       "      <td>4.00</td>\n",
       "      <td>5.90</td>\n",
       "      <td>60000</td>\n",
       "      <td>Petrol</td>\n",
       "      <td>Dealer</td>\n",
       "      <td>Manual</td>\n",
       "      <td>0</td>\n",
       "    </tr>\n",
       "    <tr>\n",
       "      <th>298</th>\n",
       "      <td>city</td>\n",
       "      <td>2009</td>\n",
       "      <td>3.35</td>\n",
       "      <td>11.00</td>\n",
       "      <td>87934</td>\n",
       "      <td>Petrol</td>\n",
       "      <td>Dealer</td>\n",
       "      <td>Manual</td>\n",
       "      <td>0</td>\n",
       "    </tr>\n",
       "    <tr>\n",
       "      <th>299</th>\n",
       "      <td>city</td>\n",
       "      <td>2017</td>\n",
       "      <td>11.50</td>\n",
       "      <td>12.50</td>\n",
       "      <td>9000</td>\n",
       "      <td>Diesel</td>\n",
       "      <td>Dealer</td>\n",
       "      <td>Manual</td>\n",
       "      <td>0</td>\n",
       "    </tr>\n",
       "    <tr>\n",
       "      <th>300</th>\n",
       "      <td>brio</td>\n",
       "      <td>2016</td>\n",
       "      <td>5.30</td>\n",
       "      <td>5.90</td>\n",
       "      <td>5464</td>\n",
       "      <td>Petrol</td>\n",
       "      <td>Dealer</td>\n",
       "      <td>Manual</td>\n",
       "      <td>0</td>\n",
       "    </tr>\n",
       "  </tbody>\n",
       "</table>\n",
       "<p>301 rows × 9 columns</p>\n",
       "</div>"
      ],
      "text/plain": [
       "    Car_Name  Year  Selling_Price  Present_Price  Kms_Driven Fuel_Type  \\\n",
       "0       ritz  2014           3.35           5.59       27000    Petrol   \n",
       "1        sx4  2013           4.75           9.54       43000    Diesel   \n",
       "2       ciaz  2017           7.25           9.85        6900    Petrol   \n",
       "3    wagon r  2011           2.85           4.15        5200    Petrol   \n",
       "4      swift  2014           4.60           6.87       42450    Diesel   \n",
       "..       ...   ...            ...            ...         ...       ...   \n",
       "296     city  2016           9.50          11.60       33988    Diesel   \n",
       "297     brio  2015           4.00           5.90       60000    Petrol   \n",
       "298     city  2009           3.35          11.00       87934    Petrol   \n",
       "299     city  2017          11.50          12.50        9000    Diesel   \n",
       "300     brio  2016           5.30           5.90        5464    Petrol   \n",
       "\n",
       "    Seller_Type Transmission  Owner  \n",
       "0        Dealer       Manual      0  \n",
       "1        Dealer       Manual      0  \n",
       "2        Dealer       Manual      0  \n",
       "3        Dealer       Manual      0  \n",
       "4        Dealer       Manual      0  \n",
       "..          ...          ...    ...  \n",
       "296      Dealer       Manual      0  \n",
       "297      Dealer       Manual      0  \n",
       "298      Dealer       Manual      0  \n",
       "299      Dealer       Manual      0  \n",
       "300      Dealer       Manual      0  \n",
       "\n",
       "[301 rows x 9 columns]"
      ]
     },
     "execution_count": 2,
     "metadata": {},
     "output_type": "execute_result"
    }
   ],
   "source": [
    "car=pd.read_csv(\"/kaggle/input/vehicle-dataset-from-cardekho/car data.csv\")\n",
    "car   "
   ]
  },
  {
   "cell_type": "code",
   "execution_count": 3,
   "id": "06171450",
   "metadata": {
    "execution": {
     "iopub.execute_input": "2023-05-04T22:50:13.758151Z",
     "iopub.status.busy": "2023-05-04T22:50:13.757744Z",
     "iopub.status.idle": "2023-05-04T22:50:13.768274Z",
     "shell.execute_reply": "2023-05-04T22:50:13.765961Z"
    },
    "papermill": {
     "duration": 0.027389,
     "end_time": "2023-05-04T22:50:13.771183",
     "exception": false,
     "start_time": "2023-05-04T22:50:13.743794",
     "status": "completed"
    },
    "tags": []
   },
   "outputs": [
    {
     "data": {
      "text/plain": [
       "(301, 9)"
      ]
     },
     "execution_count": 3,
     "metadata": {},
     "output_type": "execute_result"
    }
   ],
   "source": [
    "car.shape"
   ]
  },
  {
   "cell_type": "code",
   "execution_count": 4,
   "id": "90fcd4af",
   "metadata": {
    "execution": {
     "iopub.execute_input": "2023-05-04T22:50:13.788600Z",
     "iopub.status.busy": "2023-05-04T22:50:13.788000Z",
     "iopub.status.idle": "2023-05-04T22:50:13.813295Z",
     "shell.execute_reply": "2023-05-04T22:50:13.812095Z"
    },
    "papermill": {
     "duration": 0.036701,
     "end_time": "2023-05-04T22:50:13.815822",
     "exception": false,
     "start_time": "2023-05-04T22:50:13.779121",
     "status": "completed"
    },
    "tags": []
   },
   "outputs": [
    {
     "data": {
      "text/html": [
       "<div>\n",
       "<style scoped>\n",
       "    .dataframe tbody tr th:only-of-type {\n",
       "        vertical-align: middle;\n",
       "    }\n",
       "\n",
       "    .dataframe tbody tr th {\n",
       "        vertical-align: top;\n",
       "    }\n",
       "\n",
       "    .dataframe thead th {\n",
       "        text-align: right;\n",
       "    }\n",
       "</style>\n",
       "<table border=\"1\" class=\"dataframe\">\n",
       "  <thead>\n",
       "    <tr style=\"text-align: right;\">\n",
       "      <th></th>\n",
       "      <th>Year</th>\n",
       "      <th>Selling_Price</th>\n",
       "      <th>Present_Price</th>\n",
       "      <th>Kms_Driven</th>\n",
       "      <th>Owner</th>\n",
       "    </tr>\n",
       "  </thead>\n",
       "  <tbody>\n",
       "    <tr>\n",
       "      <th>count</th>\n",
       "      <td>301.000000</td>\n",
       "      <td>301.000000</td>\n",
       "      <td>301.000000</td>\n",
       "      <td>301.000000</td>\n",
       "      <td>301.000000</td>\n",
       "    </tr>\n",
       "    <tr>\n",
       "      <th>mean</th>\n",
       "      <td>2013.627907</td>\n",
       "      <td>4.661296</td>\n",
       "      <td>7.628472</td>\n",
       "      <td>36947.205980</td>\n",
       "      <td>0.043189</td>\n",
       "    </tr>\n",
       "    <tr>\n",
       "      <th>std</th>\n",
       "      <td>2.891554</td>\n",
       "      <td>5.082812</td>\n",
       "      <td>8.644115</td>\n",
       "      <td>38886.883882</td>\n",
       "      <td>0.247915</td>\n",
       "    </tr>\n",
       "    <tr>\n",
       "      <th>min</th>\n",
       "      <td>2003.000000</td>\n",
       "      <td>0.100000</td>\n",
       "      <td>0.320000</td>\n",
       "      <td>500.000000</td>\n",
       "      <td>0.000000</td>\n",
       "    </tr>\n",
       "    <tr>\n",
       "      <th>25%</th>\n",
       "      <td>2012.000000</td>\n",
       "      <td>0.900000</td>\n",
       "      <td>1.200000</td>\n",
       "      <td>15000.000000</td>\n",
       "      <td>0.000000</td>\n",
       "    </tr>\n",
       "    <tr>\n",
       "      <th>50%</th>\n",
       "      <td>2014.000000</td>\n",
       "      <td>3.600000</td>\n",
       "      <td>6.400000</td>\n",
       "      <td>32000.000000</td>\n",
       "      <td>0.000000</td>\n",
       "    </tr>\n",
       "    <tr>\n",
       "      <th>75%</th>\n",
       "      <td>2016.000000</td>\n",
       "      <td>6.000000</td>\n",
       "      <td>9.900000</td>\n",
       "      <td>48767.000000</td>\n",
       "      <td>0.000000</td>\n",
       "    </tr>\n",
       "    <tr>\n",
       "      <th>max</th>\n",
       "      <td>2018.000000</td>\n",
       "      <td>35.000000</td>\n",
       "      <td>92.600000</td>\n",
       "      <td>500000.000000</td>\n",
       "      <td>3.000000</td>\n",
       "    </tr>\n",
       "  </tbody>\n",
       "</table>\n",
       "</div>"
      ],
      "text/plain": [
       "              Year  Selling_Price  Present_Price     Kms_Driven       Owner\n",
       "count   301.000000     301.000000     301.000000     301.000000  301.000000\n",
       "mean   2013.627907       4.661296       7.628472   36947.205980    0.043189\n",
       "std       2.891554       5.082812       8.644115   38886.883882    0.247915\n",
       "min    2003.000000       0.100000       0.320000     500.000000    0.000000\n",
       "25%    2012.000000       0.900000       1.200000   15000.000000    0.000000\n",
       "50%    2014.000000       3.600000       6.400000   32000.000000    0.000000\n",
       "75%    2016.000000       6.000000       9.900000   48767.000000    0.000000\n",
       "max    2018.000000      35.000000      92.600000  500000.000000    3.000000"
      ]
     },
     "execution_count": 4,
     "metadata": {},
     "output_type": "execute_result"
    }
   ],
   "source": [
    "car.describe()"
   ]
  },
  {
   "cell_type": "code",
   "execution_count": 5,
   "id": "739fc418",
   "metadata": {
    "execution": {
     "iopub.execute_input": "2023-05-04T22:50:13.833914Z",
     "iopub.status.busy": "2023-05-04T22:50:13.833485Z",
     "iopub.status.idle": "2023-05-04T22:50:13.855546Z",
     "shell.execute_reply": "2023-05-04T22:50:13.854494Z"
    },
    "papermill": {
     "duration": 0.034035,
     "end_time": "2023-05-04T22:50:13.857758",
     "exception": false,
     "start_time": "2023-05-04T22:50:13.823723",
     "status": "completed"
    },
    "tags": []
   },
   "outputs": [
    {
     "name": "stdout",
     "output_type": "stream",
     "text": [
      "<class 'pandas.core.frame.DataFrame'>\n",
      "RangeIndex: 301 entries, 0 to 300\n",
      "Data columns (total 9 columns):\n",
      " #   Column         Non-Null Count  Dtype  \n",
      "---  ------         --------------  -----  \n",
      " 0   Car_Name       301 non-null    object \n",
      " 1   Year           301 non-null    int64  \n",
      " 2   Selling_Price  301 non-null    float64\n",
      " 3   Present_Price  301 non-null    float64\n",
      " 4   Kms_Driven     301 non-null    int64  \n",
      " 5   Fuel_Type      301 non-null    object \n",
      " 6   Seller_Type    301 non-null    object \n",
      " 7   Transmission   301 non-null    object \n",
      " 8   Owner          301 non-null    int64  \n",
      "dtypes: float64(2), int64(3), object(4)\n",
      "memory usage: 21.3+ KB\n"
     ]
    }
   ],
   "source": [
    "car.info()"
   ]
  },
  {
   "cell_type": "code",
   "execution_count": 6,
   "id": "11e2139d",
   "metadata": {
    "execution": {
     "iopub.execute_input": "2023-05-04T22:50:13.875600Z",
     "iopub.status.busy": "2023-05-04T22:50:13.874409Z",
     "iopub.status.idle": "2023-05-04T22:50:13.884294Z",
     "shell.execute_reply": "2023-05-04T22:50:13.883384Z"
    },
    "papermill": {
     "duration": 0.020756,
     "end_time": "2023-05-04T22:50:13.886224",
     "exception": false,
     "start_time": "2023-05-04T22:50:13.865468",
     "status": "completed"
    },
    "tags": []
   },
   "outputs": [
    {
     "data": {
      "text/plain": [
       "Car_Name         0\n",
       "Year             0\n",
       "Selling_Price    0\n",
       "Present_Price    0\n",
       "Kms_Driven       0\n",
       "Fuel_Type        0\n",
       "Seller_Type      0\n",
       "Transmission     0\n",
       "Owner            0\n",
       "dtype: int64"
      ]
     },
     "execution_count": 6,
     "metadata": {},
     "output_type": "execute_result"
    }
   ],
   "source": [
    "car.isnull().sum()"
   ]
  },
  {
   "cell_type": "code",
   "execution_count": 7,
   "id": "79ffb2ad",
   "metadata": {
    "execution": {
     "iopub.execute_input": "2023-05-04T22:50:13.903852Z",
     "iopub.status.busy": "2023-05-04T22:50:13.903172Z",
     "iopub.status.idle": "2023-05-04T22:50:13.910467Z",
     "shell.execute_reply": "2023-05-04T22:50:13.909702Z"
    },
    "papermill": {
     "duration": 0.018135,
     "end_time": "2023-05-04T22:50:13.912356",
     "exception": false,
     "start_time": "2023-05-04T22:50:13.894221",
     "status": "completed"
    },
    "tags": []
   },
   "outputs": [
    {
     "data": {
      "text/plain": [
       "Petrol    239\n",
       "Diesel     60\n",
       "CNG         2\n",
       "Name: Fuel_Type, dtype: int64"
      ]
     },
     "execution_count": 7,
     "metadata": {},
     "output_type": "execute_result"
    }
   ],
   "source": [
    "car.Fuel_Type.value_counts()"
   ]
  },
  {
   "cell_type": "code",
   "execution_count": 8,
   "id": "1a106d37",
   "metadata": {
    "execution": {
     "iopub.execute_input": "2023-05-04T22:50:13.930198Z",
     "iopub.status.busy": "2023-05-04T22:50:13.929417Z",
     "iopub.status.idle": "2023-05-04T22:50:13.936678Z",
     "shell.execute_reply": "2023-05-04T22:50:13.935801Z"
    },
    "papermill": {
     "duration": 0.01881,
     "end_time": "2023-05-04T22:50:13.939025",
     "exception": false,
     "start_time": "2023-05-04T22:50:13.920215",
     "status": "completed"
    },
    "tags": []
   },
   "outputs": [
    {
     "data": {
      "text/plain": [
       "Manual       261\n",
       "Automatic     40\n",
       "Name: Transmission, dtype: int64"
      ]
     },
     "execution_count": 8,
     "metadata": {},
     "output_type": "execute_result"
    }
   ],
   "source": [
    "car.Transmission.value_counts()"
   ]
  },
  {
   "cell_type": "code",
   "execution_count": 9,
   "id": "53e99f6d",
   "metadata": {
    "execution": {
     "iopub.execute_input": "2023-05-04T22:50:13.958326Z",
     "iopub.status.busy": "2023-05-04T22:50:13.957912Z",
     "iopub.status.idle": "2023-05-04T22:50:13.967508Z",
     "shell.execute_reply": "2023-05-04T22:50:13.966211Z"
    },
    "papermill": {
     "duration": 0.021778,
     "end_time": "2023-05-04T22:50:13.969840",
     "exception": false,
     "start_time": "2023-05-04T22:50:13.948062",
     "status": "completed"
    },
    "tags": []
   },
   "outputs": [
    {
     "name": "stdout",
     "output_type": "stream",
     "text": [
      "Dealer        195\n",
      "Individual    106\n",
      "Name: Seller_Type, dtype: int64\n",
      "city                        26\n",
      "corolla altis               16\n",
      "verna                       14\n",
      "fortuner                    11\n",
      "brio                        10\n",
      "                            ..\n",
      "Honda CB Trigger             1\n",
      "Yamaha FZ S                  1\n",
      "Bajaj Pulsar 135 LS          1\n",
      "Activa 4g                    1\n",
      "Bajaj Avenger Street 220     1\n",
      "Name: Car_Name, Length: 98, dtype: int64\n"
     ]
    }
   ],
   "source": [
    "print(car.Seller_Type.value_counts())\n",
    "print(car.Car_Name.value_counts())"
   ]
  },
  {
   "cell_type": "code",
   "execution_count": 10,
   "id": "45f1f6e5",
   "metadata": {
    "execution": {
     "iopub.execute_input": "2023-05-04T22:50:13.988039Z",
     "iopub.status.busy": "2023-05-04T22:50:13.987671Z",
     "iopub.status.idle": "2023-05-04T22:50:13.997821Z",
     "shell.execute_reply": "2023-05-04T22:50:13.996472Z"
    },
    "papermill": {
     "duration": 0.021955,
     "end_time": "2023-05-04T22:50:13.999946",
     "exception": false,
     "start_time": "2023-05-04T22:50:13.977991",
     "status": "completed"
    },
    "tags": []
   },
   "outputs": [],
   "source": [
    "car.replace({'Fuel_Type':{'Petrol':0,'Diesel':1,'CNG':2}},inplace=True)\n",
    "\n",
    "car.replace({'Transmission':{'Manual':0,'Automatic':1}},inplace=True)\n",
    "\n",
    "car.replace({'Seller_Type':{'Dealer':0,'Individual':1,}},inplace=True)"
   ]
  },
  {
   "cell_type": "code",
   "execution_count": 11,
   "id": "4139ac16",
   "metadata": {
    "execution": {
     "iopub.execute_input": "2023-05-04T22:50:14.018999Z",
     "iopub.status.busy": "2023-05-04T22:50:14.018284Z",
     "iopub.status.idle": "2023-05-04T22:50:14.036160Z",
     "shell.execute_reply": "2023-05-04T22:50:14.035044Z"
    },
    "papermill": {
     "duration": 0.029687,
     "end_time": "2023-05-04T22:50:14.038343",
     "exception": false,
     "start_time": "2023-05-04T22:50:14.008656",
     "status": "completed"
    },
    "tags": []
   },
   "outputs": [
    {
     "data": {
      "text/html": [
       "<div>\n",
       "<style scoped>\n",
       "    .dataframe tbody tr th:only-of-type {\n",
       "        vertical-align: middle;\n",
       "    }\n",
       "\n",
       "    .dataframe tbody tr th {\n",
       "        vertical-align: top;\n",
       "    }\n",
       "\n",
       "    .dataframe thead th {\n",
       "        text-align: right;\n",
       "    }\n",
       "</style>\n",
       "<table border=\"1\" class=\"dataframe\">\n",
       "  <thead>\n",
       "    <tr style=\"text-align: right;\">\n",
       "      <th></th>\n",
       "      <th>Car_Name</th>\n",
       "      <th>Year</th>\n",
       "      <th>Selling_Price</th>\n",
       "      <th>Present_Price</th>\n",
       "      <th>Kms_Driven</th>\n",
       "      <th>Fuel_Type</th>\n",
       "      <th>Seller_Type</th>\n",
       "      <th>Transmission</th>\n",
       "      <th>Owner</th>\n",
       "    </tr>\n",
       "  </thead>\n",
       "  <tbody>\n",
       "    <tr>\n",
       "      <th>0</th>\n",
       "      <td>ritz</td>\n",
       "      <td>2014</td>\n",
       "      <td>3.35</td>\n",
       "      <td>5.59</td>\n",
       "      <td>27000</td>\n",
       "      <td>0</td>\n",
       "      <td>0</td>\n",
       "      <td>0</td>\n",
       "      <td>0</td>\n",
       "    </tr>\n",
       "    <tr>\n",
       "      <th>1</th>\n",
       "      <td>sx4</td>\n",
       "      <td>2013</td>\n",
       "      <td>4.75</td>\n",
       "      <td>9.54</td>\n",
       "      <td>43000</td>\n",
       "      <td>1</td>\n",
       "      <td>0</td>\n",
       "      <td>0</td>\n",
       "      <td>0</td>\n",
       "    </tr>\n",
       "    <tr>\n",
       "      <th>2</th>\n",
       "      <td>ciaz</td>\n",
       "      <td>2017</td>\n",
       "      <td>7.25</td>\n",
       "      <td>9.85</td>\n",
       "      <td>6900</td>\n",
       "      <td>0</td>\n",
       "      <td>0</td>\n",
       "      <td>0</td>\n",
       "      <td>0</td>\n",
       "    </tr>\n",
       "    <tr>\n",
       "      <th>3</th>\n",
       "      <td>wagon r</td>\n",
       "      <td>2011</td>\n",
       "      <td>2.85</td>\n",
       "      <td>4.15</td>\n",
       "      <td>5200</td>\n",
       "      <td>0</td>\n",
       "      <td>0</td>\n",
       "      <td>0</td>\n",
       "      <td>0</td>\n",
       "    </tr>\n",
       "    <tr>\n",
       "      <th>4</th>\n",
       "      <td>swift</td>\n",
       "      <td>2014</td>\n",
       "      <td>4.60</td>\n",
       "      <td>6.87</td>\n",
       "      <td>42450</td>\n",
       "      <td>1</td>\n",
       "      <td>0</td>\n",
       "      <td>0</td>\n",
       "      <td>0</td>\n",
       "    </tr>\n",
       "    <tr>\n",
       "      <th>...</th>\n",
       "      <td>...</td>\n",
       "      <td>...</td>\n",
       "      <td>...</td>\n",
       "      <td>...</td>\n",
       "      <td>...</td>\n",
       "      <td>...</td>\n",
       "      <td>...</td>\n",
       "      <td>...</td>\n",
       "      <td>...</td>\n",
       "    </tr>\n",
       "    <tr>\n",
       "      <th>296</th>\n",
       "      <td>city</td>\n",
       "      <td>2016</td>\n",
       "      <td>9.50</td>\n",
       "      <td>11.60</td>\n",
       "      <td>33988</td>\n",
       "      <td>1</td>\n",
       "      <td>0</td>\n",
       "      <td>0</td>\n",
       "      <td>0</td>\n",
       "    </tr>\n",
       "    <tr>\n",
       "      <th>297</th>\n",
       "      <td>brio</td>\n",
       "      <td>2015</td>\n",
       "      <td>4.00</td>\n",
       "      <td>5.90</td>\n",
       "      <td>60000</td>\n",
       "      <td>0</td>\n",
       "      <td>0</td>\n",
       "      <td>0</td>\n",
       "      <td>0</td>\n",
       "    </tr>\n",
       "    <tr>\n",
       "      <th>298</th>\n",
       "      <td>city</td>\n",
       "      <td>2009</td>\n",
       "      <td>3.35</td>\n",
       "      <td>11.00</td>\n",
       "      <td>87934</td>\n",
       "      <td>0</td>\n",
       "      <td>0</td>\n",
       "      <td>0</td>\n",
       "      <td>0</td>\n",
       "    </tr>\n",
       "    <tr>\n",
       "      <th>299</th>\n",
       "      <td>city</td>\n",
       "      <td>2017</td>\n",
       "      <td>11.50</td>\n",
       "      <td>12.50</td>\n",
       "      <td>9000</td>\n",
       "      <td>1</td>\n",
       "      <td>0</td>\n",
       "      <td>0</td>\n",
       "      <td>0</td>\n",
       "    </tr>\n",
       "    <tr>\n",
       "      <th>300</th>\n",
       "      <td>brio</td>\n",
       "      <td>2016</td>\n",
       "      <td>5.30</td>\n",
       "      <td>5.90</td>\n",
       "      <td>5464</td>\n",
       "      <td>0</td>\n",
       "      <td>0</td>\n",
       "      <td>0</td>\n",
       "      <td>0</td>\n",
       "    </tr>\n",
       "  </tbody>\n",
       "</table>\n",
       "<p>301 rows × 9 columns</p>\n",
       "</div>"
      ],
      "text/plain": [
       "    Car_Name  Year  Selling_Price  Present_Price  Kms_Driven  Fuel_Type  \\\n",
       "0       ritz  2014           3.35           5.59       27000          0   \n",
       "1        sx4  2013           4.75           9.54       43000          1   \n",
       "2       ciaz  2017           7.25           9.85        6900          0   \n",
       "3    wagon r  2011           2.85           4.15        5200          0   \n",
       "4      swift  2014           4.60           6.87       42450          1   \n",
       "..       ...   ...            ...            ...         ...        ...   \n",
       "296     city  2016           9.50          11.60       33988          1   \n",
       "297     brio  2015           4.00           5.90       60000          0   \n",
       "298     city  2009           3.35          11.00       87934          0   \n",
       "299     city  2017          11.50          12.50        9000          1   \n",
       "300     brio  2016           5.30           5.90        5464          0   \n",
       "\n",
       "     Seller_Type  Transmission  Owner  \n",
       "0              0             0      0  \n",
       "1              0             0      0  \n",
       "2              0             0      0  \n",
       "3              0             0      0  \n",
       "4              0             0      0  \n",
       "..           ...           ...    ...  \n",
       "296            0             0      0  \n",
       "297            0             0      0  \n",
       "298            0             0      0  \n",
       "299            0             0      0  \n",
       "300            0             0      0  \n",
       "\n",
       "[301 rows x 9 columns]"
      ]
     },
     "execution_count": 11,
     "metadata": {},
     "output_type": "execute_result"
    }
   ],
   "source": [
    "car"
   ]
  },
  {
   "cell_type": "code",
   "execution_count": 12,
   "id": "4df77b40",
   "metadata": {
    "execution": {
     "iopub.execute_input": "2023-05-04T22:50:14.057475Z",
     "iopub.status.busy": "2023-05-04T22:50:14.056905Z",
     "iopub.status.idle": "2023-05-04T22:50:14.062611Z",
     "shell.execute_reply": "2023-05-04T22:50:14.061863Z"
    },
    "papermill": {
     "duration": 0.017992,
     "end_time": "2023-05-04T22:50:14.064607",
     "exception": false,
     "start_time": "2023-05-04T22:50:14.046615",
     "status": "completed"
    },
    "tags": []
   },
   "outputs": [],
   "source": [
    "x=car.drop(['Car_Name','Selling_Price'],axis=1)\n",
    "y=car['Selling_Price']"
   ]
  },
  {
   "cell_type": "code",
   "execution_count": 13,
   "id": "d27df0e4",
   "metadata": {
    "execution": {
     "iopub.execute_input": "2023-05-04T22:50:14.083307Z",
     "iopub.status.busy": "2023-05-04T22:50:14.082682Z",
     "iopub.status.idle": "2023-05-04T22:50:14.095836Z",
     "shell.execute_reply": "2023-05-04T22:50:14.094640Z"
    },
    "papermill": {
     "duration": 0.025321,
     "end_time": "2023-05-04T22:50:14.098260",
     "exception": false,
     "start_time": "2023-05-04T22:50:14.072939",
     "status": "completed"
    },
    "tags": []
   },
   "outputs": [
    {
     "name": "stdout",
     "output_type": "stream",
     "text": [
      "     Year  Present_Price  Kms_Driven  Fuel_Type  Seller_Type  Transmission  \\\n",
      "0    2014           5.59       27000          0            0             0   \n",
      "1    2013           9.54       43000          1            0             0   \n",
      "2    2017           9.85        6900          0            0             0   \n",
      "3    2011           4.15        5200          0            0             0   \n",
      "4    2014           6.87       42450          1            0             0   \n",
      "..    ...            ...         ...        ...          ...           ...   \n",
      "296  2016          11.60       33988          1            0             0   \n",
      "297  2015           5.90       60000          0            0             0   \n",
      "298  2009          11.00       87934          0            0             0   \n",
      "299  2017          12.50        9000          1            0             0   \n",
      "300  2016           5.90        5464          0            0             0   \n",
      "\n",
      "     Owner  \n",
      "0        0  \n",
      "1        0  \n",
      "2        0  \n",
      "3        0  \n",
      "4        0  \n",
      "..     ...  \n",
      "296      0  \n",
      "297      0  \n",
      "298      0  \n",
      "299      0  \n",
      "300      0  \n",
      "\n",
      "[301 rows x 7 columns]\n"
     ]
    },
    {
     "data": {
      "text/plain": [
       "0       3.35\n",
       "1       4.75\n",
       "2       7.25\n",
       "3       2.85\n",
       "4       4.60\n",
       "       ...  \n",
       "296     9.50\n",
       "297     4.00\n",
       "298     3.35\n",
       "299    11.50\n",
       "300     5.30\n",
       "Name: Selling_Price, Length: 301, dtype: float64"
      ]
     },
     "execution_count": 13,
     "metadata": {},
     "output_type": "execute_result"
    }
   ],
   "source": [
    "print(x)\n",
    "y"
   ]
  },
  {
   "cell_type": "code",
   "execution_count": 14,
   "id": "9412efba",
   "metadata": {
    "execution": {
     "iopub.execute_input": "2023-05-04T22:50:14.118429Z",
     "iopub.status.busy": "2023-05-04T22:50:14.117217Z",
     "iopub.status.idle": "2023-05-04T22:50:14.124757Z",
     "shell.execute_reply": "2023-05-04T22:50:14.123905Z"
    },
    "papermill": {
     "duration": 0.020067,
     "end_time": "2023-05-04T22:50:14.127100",
     "exception": false,
     "start_time": "2023-05-04T22:50:14.107033",
     "status": "completed"
    },
    "tags": []
   },
   "outputs": [],
   "source": [
    "x_train,x_test,y_train,y_test=train_test_split(x,y,test_size=0.1,random_state=2)"
   ]
  },
  {
   "cell_type": "code",
   "execution_count": 15,
   "id": "6c69874e",
   "metadata": {
    "execution": {
     "iopub.execute_input": "2023-05-04T22:50:14.146635Z",
     "iopub.status.busy": "2023-05-04T22:50:14.146188Z",
     "iopub.status.idle": "2023-05-04T22:50:14.163494Z",
     "shell.execute_reply": "2023-05-04T22:50:14.162488Z"
    },
    "papermill": {
     "duration": 0.029851,
     "end_time": "2023-05-04T22:50:14.165704",
     "exception": false,
     "start_time": "2023-05-04T22:50:14.135853",
     "status": "completed"
    },
    "tags": []
   },
   "outputs": [
    {
     "data": {
      "text/html": [
       "<style>#sk-container-id-1 {color: black;background-color: white;}#sk-container-id-1 pre{padding: 0;}#sk-container-id-1 div.sk-toggleable {background-color: white;}#sk-container-id-1 label.sk-toggleable__label {cursor: pointer;display: block;width: 100%;margin-bottom: 0;padding: 0.3em;box-sizing: border-box;text-align: center;}#sk-container-id-1 label.sk-toggleable__label-arrow:before {content: \"▸\";float: left;margin-right: 0.25em;color: #696969;}#sk-container-id-1 label.sk-toggleable__label-arrow:hover:before {color: black;}#sk-container-id-1 div.sk-estimator:hover label.sk-toggleable__label-arrow:before {color: black;}#sk-container-id-1 div.sk-toggleable__content {max-height: 0;max-width: 0;overflow: hidden;text-align: left;background-color: #f0f8ff;}#sk-container-id-1 div.sk-toggleable__content pre {margin: 0.2em;color: black;border-radius: 0.25em;background-color: #f0f8ff;}#sk-container-id-1 input.sk-toggleable__control:checked~div.sk-toggleable__content {max-height: 200px;max-width: 100%;overflow: auto;}#sk-container-id-1 input.sk-toggleable__control:checked~label.sk-toggleable__label-arrow:before {content: \"▾\";}#sk-container-id-1 div.sk-estimator input.sk-toggleable__control:checked~label.sk-toggleable__label {background-color: #d4ebff;}#sk-container-id-1 div.sk-label input.sk-toggleable__control:checked~label.sk-toggleable__label {background-color: #d4ebff;}#sk-container-id-1 input.sk-hidden--visually {border: 0;clip: rect(1px 1px 1px 1px);clip: rect(1px, 1px, 1px, 1px);height: 1px;margin: -1px;overflow: hidden;padding: 0;position: absolute;width: 1px;}#sk-container-id-1 div.sk-estimator {font-family: monospace;background-color: #f0f8ff;border: 1px dotted black;border-radius: 0.25em;box-sizing: border-box;margin-bottom: 0.5em;}#sk-container-id-1 div.sk-estimator:hover {background-color: #d4ebff;}#sk-container-id-1 div.sk-parallel-item::after {content: \"\";width: 100%;border-bottom: 1px solid gray;flex-grow: 1;}#sk-container-id-1 div.sk-label:hover label.sk-toggleable__label {background-color: #d4ebff;}#sk-container-id-1 div.sk-serial::before {content: \"\";position: absolute;border-left: 1px solid gray;box-sizing: border-box;top: 0;bottom: 0;left: 50%;z-index: 0;}#sk-container-id-1 div.sk-serial {display: flex;flex-direction: column;align-items: center;background-color: white;padding-right: 0.2em;padding-left: 0.2em;position: relative;}#sk-container-id-1 div.sk-item {position: relative;z-index: 1;}#sk-container-id-1 div.sk-parallel {display: flex;align-items: stretch;justify-content: center;background-color: white;position: relative;}#sk-container-id-1 div.sk-item::before, #sk-container-id-1 div.sk-parallel-item::before {content: \"\";position: absolute;border-left: 1px solid gray;box-sizing: border-box;top: 0;bottom: 0;left: 50%;z-index: -1;}#sk-container-id-1 div.sk-parallel-item {display: flex;flex-direction: column;z-index: 1;position: relative;background-color: white;}#sk-container-id-1 div.sk-parallel-item:first-child::after {align-self: flex-end;width: 50%;}#sk-container-id-1 div.sk-parallel-item:last-child::after {align-self: flex-start;width: 50%;}#sk-container-id-1 div.sk-parallel-item:only-child::after {width: 0;}#sk-container-id-1 div.sk-dashed-wrapped {border: 1px dashed gray;margin: 0 0.4em 0.5em 0.4em;box-sizing: border-box;padding-bottom: 0.4em;background-color: white;}#sk-container-id-1 div.sk-label label {font-family: monospace;font-weight: bold;display: inline-block;line-height: 1.2em;}#sk-container-id-1 div.sk-label-container {text-align: center;}#sk-container-id-1 div.sk-container {/* jupyter's `normalize.less` sets `[hidden] { display: none; }` but bootstrap.min.css set `[hidden] { display: none !important; }` so we also need the `!important` here to be able to override the default hidden behavior on the sphinx rendered scikit-learn.org. See: https://github.com/scikit-learn/scikit-learn/issues/21755 */display: inline-block !important;position: relative;}#sk-container-id-1 div.sk-text-repr-fallback {display: none;}</style><div id=\"sk-container-id-1\" class=\"sk-top-container\"><div class=\"sk-text-repr-fallback\"><pre>Lasso()</pre><b>In a Jupyter environment, please rerun this cell to show the HTML representation or trust the notebook. <br />On GitHub, the HTML representation is unable to render, please try loading this page with nbviewer.org.</b></div><div class=\"sk-container\" hidden><div class=\"sk-item\"><div class=\"sk-estimator sk-toggleable\"><input class=\"sk-toggleable__control sk-hidden--visually\" id=\"sk-estimator-id-1\" type=\"checkbox\" checked><label for=\"sk-estimator-id-1\" class=\"sk-toggleable__label sk-toggleable__label-arrow\">Lasso</label><div class=\"sk-toggleable__content\"><pre>Lasso()</pre></div></div></div></div></div>"
      ],
      "text/plain": [
       "Lasso()"
      ]
     },
     "execution_count": 15,
     "metadata": {},
     "output_type": "execute_result"
    }
   ],
   "source": [
    "lasso_reg_model=Lasso()\n",
    "lasso_reg_model.fit(x_train,y_train)"
   ]
  },
  {
   "cell_type": "code",
   "execution_count": 16,
   "id": "6eb40d67",
   "metadata": {
    "execution": {
     "iopub.execute_input": "2023-05-04T22:50:14.186094Z",
     "iopub.status.busy": "2023-05-04T22:50:14.185438Z",
     "iopub.status.idle": "2023-05-04T22:50:14.191457Z",
     "shell.execute_reply": "2023-05-04T22:50:14.190655Z"
    },
    "papermill": {
     "duration": 0.018594,
     "end_time": "2023-05-04T22:50:14.193651",
     "exception": false,
     "start_time": "2023-05-04T22:50:14.175057",
     "status": "completed"
    },
    "tags": []
   },
   "outputs": [],
   "source": [
    "trainingdataprediction=lasso_reg_model.predict(x_train)"
   ]
  },
  {
   "cell_type": "code",
   "execution_count": 17,
   "id": "30b75182",
   "metadata": {
    "execution": {
     "iopub.execute_input": "2023-05-04T22:50:14.214232Z",
     "iopub.status.busy": "2023-05-04T22:50:14.213518Z",
     "iopub.status.idle": "2023-05-04T22:50:14.220035Z",
     "shell.execute_reply": "2023-05-04T22:50:14.219049Z"
    },
    "papermill": {
     "duration": 0.019472,
     "end_time": "2023-05-04T22:50:14.222392",
     "exception": false,
     "start_time": "2023-05-04T22:50:14.202920",
     "status": "completed"
    },
    "tags": []
   },
   "outputs": [
    {
     "data": {
      "text/plain": [
       "0.8427856123435794"
      ]
     },
     "execution_count": 17,
     "metadata": {},
     "output_type": "execute_result"
    }
   ],
   "source": [
    "# R Squered Error\n",
    "\n",
    "error_score=metrics.r2_score(y_train,trainingdataprediction)\n",
    "error_score"
   ]
  },
  {
   "cell_type": "code",
   "execution_count": 18,
   "id": "bb63b2ad",
   "metadata": {
    "execution": {
     "iopub.execute_input": "2023-05-04T22:50:14.243000Z",
     "iopub.status.busy": "2023-05-04T22:50:14.242142Z",
     "iopub.status.idle": "2023-05-04T22:50:14.508498Z",
     "shell.execute_reply": "2023-05-04T22:50:14.507341Z"
    },
    "papermill": {
     "duration": 0.279325,
     "end_time": "2023-05-04T22:50:14.511070",
     "exception": false,
     "start_time": "2023-05-04T22:50:14.231745",
     "status": "completed"
    },
    "tags": []
   },
   "outputs": [
    {
     "data": {
      "image/png": "[encoded data removed]",
      "text/plain": [
       "<Figure size 640x480 with 1 Axes>"
      ]
     },
     "metadata": {},
     "output_type": "display_data"
    }
   ],
   "source": [
    "plt.scatter(y_train,trainingdataprediction)\n",
    "plt.xlabel('Actual Price')\n",
    "plt.ylabel('predicted Price')\n",
    "plt.title('Actual Vs Predicted price')\n",
    "plt.show()"
   ]
  },
  {
   "cell_type": "code",
   "execution_count": 19,
   "id": "5082f7b1",
   "metadata": {
    "execution": {
     "iopub.execute_input": "2023-05-04T22:50:14.532024Z",
     "iopub.status.busy": "2023-05-04T22:50:14.531651Z",
     "iopub.status.idle": "2023-05-04T22:50:14.537971Z",
     "shell.execute_reply": "2023-05-04T22:50:14.536787Z"
    },
    "papermill": {
     "duration": 0.01952,
     "end_time": "2023-05-04T22:50:14.540181",
     "exception": false,
     "start_time": "2023-05-04T22:50:14.520661",
     "status": "completed"
    },
    "tags": []
   },
   "outputs": [],
   "source": [
    "testdataprediction=lasso_reg_model.predict(x_test)"
   ]
  },
  {
   "cell_type": "code",
   "execution_count": 20,
   "id": "610460ac",
   "metadata": {
    "execution": {
     "iopub.execute_input": "2023-05-04T22:50:14.560490Z",
     "iopub.status.busy": "2023-05-04T22:50:14.560131Z",
     "iopub.status.idle": "2023-05-04T22:50:14.567885Z",
     "shell.execute_reply": "2023-05-04T22:50:14.566952Z"
    },
    "papermill": {
     "duration": 0.020472,
     "end_time": "2023-05-04T22:50:14.570054",
     "exception": false,
     "start_time": "2023-05-04T22:50:14.549582",
     "status": "completed"
    },
    "tags": []
   },
   "outputs": [
    {
     "data": {
      "text/plain": [
       "0.8709167941173195"
      ]
     },
     "execution_count": 20,
     "metadata": {},
     "output_type": "execute_result"
    }
   ],
   "source": [
    "test_error_score=metrics.r2_score(y_test,testdataprediction)\n",
    "test_error_score"
   ]
  },
  {
   "cell_type": "code",
   "execution_count": 21,
   "id": "9dcb7543",
   "metadata": {
    "execution": {
     "iopub.execute_input": "2023-05-04T22:50:14.591062Z",
     "iopub.status.busy": "2023-05-04T22:50:14.590686Z",
     "iopub.status.idle": "2023-05-04T22:50:14.838299Z",
     "shell.execute_reply": "2023-05-04T22:50:14.837236Z"
    },
    "papermill": {
     "duration": 0.260748,
     "end_time": "2023-05-04T22:50:14.840482",
     "exception": false,
     "start_time": "2023-05-04T22:50:14.579734",
     "status": "completed"
    },
    "tags": []
   },
   "outputs": [
    {
     "data": {
      "image/png": "[encoded data removed]",
      "text/plain": [
       "<Figure size 640x480 with 1 Axes>"
      ]
     },
     "metadata": {},
     "output_type": "display_data"
    }
   ],
   "source": [
    "plt.scatter(y_test,testdataprediction)\n",
    "plt.xlabel('Actual price')\n",
    "plt.ylabel('Predicted price')\n",
    "plt.title('Actual Vs Predicted price on test data')\n",
    "plt.show()"
   ]
  },
  {
   "cell_type": "code",
   "execution_count": null,
   "id": "87ea0bf2",
   "metadata": {
    "papermill": {
     "duration": 0.00957,
     "end_time": "2023-05-04T22:50:14.859862",
     "exception": false,
     "start_time": "2023-05-04T22:50:14.850292",
     "status": "completed"
    },
    "tags": []
   },
   "outputs": [],
   "source": []
  },
  {
   "cell_type": "code",
   "execution_count": 22,
   "id": "058050c5",
   "metadata": {
    "execution": {
     "iopub.execute_input": "2023-05-04T22:50:14.881572Z",
     "iopub.status.busy": "2023-05-04T22:50:14.880888Z",
     "iopub.status.idle": "2023-05-04T22:50:14.910094Z",
     "shell.execute_reply": "2023-05-04T22:50:14.909279Z"
    },
    "papermill": {
     "duration": 0.042861,
     "end_time": "2023-05-04T22:50:14.912570",
     "exception": false,
     "start_time": "2023-05-04T22:50:14.869709",
     "status": "completed"
    },
    "tags": []
   },
   "outputs": [
    {
     "data": {
      "text/html": [
       "<style>#sk-container-id-2 {color: black;background-color: white;}#sk-container-id-2 pre{padding: 0;}#sk-container-id-2 div.sk-toggleable {background-color: white;}#sk-container-id-2 label.sk-toggleable__label {cursor: pointer;display: block;width: 100%;margin-bottom: 0;padding: 0.3em;box-sizing: border-box;text-align: center;}#sk-container-id-2 label.sk-toggleable__label-arrow:before {content: \"▸\";float: left;margin-right: 0.25em;color: #696969;}#sk-container-id-2 label.sk-toggleable__label-arrow:hover:before {color: black;}#sk-container-id-2 div.sk-estimator:hover label.sk-toggleable__label-arrow:before {color: black;}#sk-container-id-2 div.sk-toggleable__content {max-height: 0;max-width: 0;overflow: hidden;text-align: left;background-color: #f0f8ff;}#sk-container-id-2 div.sk-toggleable__content pre {margin: 0.2em;color: black;border-radius: 0.25em;background-color: #f0f8ff;}#sk-container-id-2 input.sk-toggleable__control:checked~div.sk-toggleable__content {max-height: 200px;max-width: 100%;overflow: auto;}#sk-container-id-2 input.sk-toggleable__control:checked~label.sk-toggleable__label-arrow:before {content: \"▾\";}#sk-container-id-2 div.sk-estimator input.sk-toggleable__control:checked~label.sk-toggleable__label {background-color: #d4ebff;}#sk-container-id-2 div.sk-label input.sk-toggleable__control:checked~label.sk-toggleable__label {background-color: #d4ebff;}#sk-container-id-2 input.sk-hidden--visually {border: 0;clip: rect(1px 1px 1px 1px);clip: rect(1px, 1px, 1px, 1px);height: 1px;margin: -1px;overflow: hidden;padding: 0;position: absolute;width: 1px;}#sk-container-id-2 div.sk-estimator {font-family: monospace;background-color: #f0f8ff;border: 1px dotted black;border-radius: 0.25em;box-sizing: border-box;margin-bottom: 0.5em;}#sk-container-id-2 div.sk-estimator:hover {background-color: #d4ebff;}#sk-container-id-2 div.sk-parallel-item::after {content: \"\";width: 100%;border-bottom: 1px solid gray;flex-grow: 1;}#sk-container-id-2 div.sk-label:hover label.sk-toggleable__label {background-color: #d4ebff;}#sk-container-id-2 div.sk-serial::before {content: \"\";position: absolute;border-left: 1px solid gray;box-sizing: border-box;top: 0;bottom: 0;left: 50%;z-index: 0;}#sk-container-id-2 div.sk-serial {display: flex;flex-direction: column;align-items: center;background-color: white;padding-right: 0.2em;padding-left: 0.2em;position: relative;}#sk-container-id-2 div.sk-item {position: relative;z-index: 1;}#sk-container-id-2 div.sk-parallel {display: flex;align-items: stretch;justify-content: center;background-color: white;position: relative;}#sk-container-id-2 div.sk-item::before, #sk-container-id-2 div.sk-parallel-item::before {content: \"\";position: absolute;border-left: 1px solid gray;box-sizing: border-box;top: 0;bottom: 0;left: 50%;z-index: -1;}#sk-container-id-2 div.sk-parallel-item {display: flex;flex-direction: column;z-index: 1;position: relative;background-color: white;}#sk-container-id-2 div.sk-parallel-item:first-child::after {align-self: flex-end;width: 50%;}#sk-container-id-2 div.sk-parallel-item:last-child::after {align-self: flex-start;width: 50%;}#sk-container-id-2 div.sk-parallel-item:only-child::after {width: 0;}#sk-container-id-2 div.sk-dashed-wrapped {border: 1px dashed gray;margin: 0 0.4em 0.5em 0.4em;box-sizing: border-box;padding-bottom: 0.4em;background-color: white;}#sk-container-id-2 div.sk-label label {font-family: monospace;font-weight: bold;display: inline-block;line-height: 1.2em;}#sk-container-id-2 div.sk-label-container {text-align: center;}#sk-container-id-2 div.sk-container {/* jupyter's `normalize.less` sets `[hidden] { display: none; }` but bootstrap.min.css set `[hidden] { display: none !important; }` so we also need the `!important` here to be able to override the default hidden behavior on the sphinx rendered scikit-learn.org. See: https://github.com/scikit-learn/scikit-learn/issues/21755 */display: inline-block !important;position: relative;}#sk-container-id-2 div.sk-text-repr-fallback {display: none;}</style><div id=\"sk-container-id-2\" class=\"sk-top-container\"><div class=\"sk-text-repr-fallback\"><pre>LinearRegression()</pre><b>In a Jupyter environment, please rerun this cell to show the HTML representation or trust the notebook. <br />On GitHub, the HTML representation is unable to render, please try loading this page with nbviewer.org.</b></div><div class=\"sk-container\" hidden><div class=\"sk-item\"><div class=\"sk-estimator sk-toggleable\"><input class=\"sk-toggleable__control sk-hidden--visually\" id=\"sk-estimator-id-2\" type=\"checkbox\" checked><label for=\"sk-estimator-id-2\" class=\"sk-toggleable__label sk-toggleable__label-arrow\">LinearRegression</label><div class=\"sk-toggleable__content\"><pre>LinearRegression()</pre></div></div></div></div></div>"
      ],
      "text/plain": [
       "LinearRegression()"
      ]
     },
     "execution_count": 22,
     "metadata": {},
     "output_type": "execute_result"
    }
   ],
   "source": [
    "lin_reg_model=LinearRegression()\n",
    "lin_reg_model.fit(x_train,y_train)"
   ]
  },
  {
   "cell_type": "code",
   "execution_count": 23,
   "id": "39c71442",
   "metadata": {
    "execution": {
     "iopub.execute_input": "2023-05-04T22:50:14.935448Z",
     "iopub.status.busy": "2023-05-04T22:50:14.934852Z",
     "iopub.status.idle": "2023-05-04T22:50:14.940646Z",
     "shell.execute_reply": "2023-05-04T22:50:14.939824Z"
    },
    "papermill": {
     "duration": 0.0197,
     "end_time": "2023-05-04T22:50:14.942724",
     "exception": false,
     "start_time": "2023-05-04T22:50:14.923024",
     "status": "completed"
    },
    "tags": []
   },
   "outputs": [],
   "source": [
    "trainingdataprediction=lin_reg_model.predict(x_train)"
   ]
  },
  {
   "cell_type": "code",
   "execution_count": 24,
   "id": "9bb29697",
   "metadata": {
    "execution": {
     "iopub.execute_input": "2023-05-04T22:50:14.964788Z",
     "iopub.status.busy": "2023-05-04T22:50:14.964393Z",
     "iopub.status.idle": "2023-05-04T22:50:14.971934Z",
     "shell.execute_reply": "2023-05-04T22:50:14.970768Z"
    },
    "papermill": {
     "duration": 0.021162,
     "end_time": "2023-05-04T22:50:14.974096",
     "exception": false,
     "start_time": "2023-05-04T22:50:14.952934",
     "status": "completed"
    },
    "tags": []
   },
   "outputs": [
    {
     "data": {
      "text/plain": [
       "0.8799451660493711"
      ]
     },
     "execution_count": 24,
     "metadata": {},
     "output_type": "execute_result"
    }
   ],
   "source": [
    "# R Squered Error\n",
    "\n",
    "error_score=metrics.r2_score(y_train,trainingdataprediction)\n",
    "error_score"
   ]
  },
  {
   "cell_type": "code",
   "execution_count": 25,
   "id": "d6300f41",
   "metadata": {
    "execution": {
     "iopub.execute_input": "2023-05-04T22:50:14.997507Z",
     "iopub.status.busy": "2023-05-04T22:50:14.996813Z",
     "iopub.status.idle": "2023-05-04T22:50:15.237568Z",
     "shell.execute_reply": "2023-05-04T22:50:15.236645Z"
    },
    "papermill": {
     "duration": 0.254814,
     "end_time": "2023-05-04T22:50:15.239516",
     "exception": false,
     "start_time": "2023-05-04T22:50:14.984702",
     "status": "completed"
    },
    "tags": []
   },
   "outputs": [
    {
     "data": {
      "image/png": "[encoded data removed]",
      "text/plain": [
       "<Figure size 640x480 with 1 Axes>"
      ]
     },
     "metadata": {},
     "output_type": "display_data"
    }
   ],
   "source": [
    "plt.scatter(y_train,trainingdataprediction)\n",
    "plt.xlabel('Actual Price')\n",
    "plt.ylabel('predicted Price')\n",
    "plt.title('Actual Vs Predicted price')\n",
    "plt.show()"
   ]
  },
  {
   "cell_type": "code",
   "execution_count": 26,
   "id": "f415a9b2",
   "metadata": {
    "execution": {
     "iopub.execute_input": "2023-05-04T22:50:15.262898Z",
     "iopub.status.busy": "2023-05-04T22:50:15.262233Z",
     "iopub.status.idle": "2023-05-04T22:50:15.268911Z",
     "shell.execute_reply": "2023-05-04T22:50:15.267971Z"
    },
    "papermill": {
     "duration": 0.020966,
     "end_time": "2023-05-04T22:50:15.271441",
     "exception": false,
     "start_time": "2023-05-04T22:50:15.250475",
     "status": "completed"
    },
    "tags": []
   },
   "outputs": [],
   "source": [
    "testdataprediction=lin_reg_model.predict(x_test)"
   ]
  },
  {
   "cell_type": "code",
   "execution_count": 27,
   "id": "3d5c4e64",
   "metadata": {
    "execution": {
     "iopub.execute_input": "2023-05-04T22:50:15.295102Z",
     "iopub.status.busy": "2023-05-04T22:50:15.294730Z",
     "iopub.status.idle": "2023-05-04T22:50:15.302175Z",
     "shell.execute_reply": "2023-05-04T22:50:15.301146Z"
    },
    "papermill": {
     "duration": 0.021852,
     "end_time": "2023-05-04T22:50:15.304244",
     "exception": false,
     "start_time": "2023-05-04T22:50:15.282392",
     "status": "completed"
    },
    "tags": []
   },
   "outputs": [
    {
     "data": {
      "text/plain": [
       "0.8365766715027051"
      ]
     },
     "execution_count": 27,
     "metadata": {},
     "output_type": "execute_result"
    }
   ],
   "source": [
    "test_error_score=metrics.r2_score(y_test,testdataprediction)\n",
    "test_error_score"
   ]
  },
  {
   "cell_type": "code",
   "execution_count": 28,
   "id": "ea867c3d",
   "metadata": {
    "execution": {
     "iopub.execute_input": "2023-05-04T22:50:15.329175Z",
     "iopub.status.busy": "2023-05-04T22:50:15.328798Z",
     "iopub.status.idle": "2023-05-04T22:50:15.578669Z",
     "shell.execute_reply": "2023-05-04T22:50:15.577601Z"
    },
    "papermill": {
     "duration": 0.265273,
     "end_time": "2023-05-04T22:50:15.581120",
     "exception": false,
     "start_time": "2023-05-04T22:50:15.315847",
     "status": "completed"
    },
    "tags": []
   },
   "outputs": [
    {
     "data": {
      "image/png": "[encoded data removed]",
      "text/plain": [
       "<Figure size 640x480 with 1 Axes>"
      ]
     },
     "metadata": {},
     "output_type": "display_data"
    }
   ],
   "source": [
    "plt.scatter(y_test,testdataprediction)\n",
    "plt.xlabel('Actual price')\n",
    "plt.ylabel('Predicted price')\n",
    "plt.title('Actual Vs Predicted price on test data')\n",
    "plt.show()"
   ]
  },
  {
   "cell_type": "code",
   "execution_count": 29,
   "id": "89105c25",
   "metadata": {
    "execution": {
     "iopub.execute_input": "2023-05-04T22:50:15.605242Z",
     "iopub.status.busy": "2023-05-04T22:50:15.604823Z",
     "iopub.status.idle": "2023-05-04T22:50:15.615047Z",
     "shell.execute_reply": "2023-05-04T22:50:15.613908Z"
    },
    "papermill": {
     "duration": 0.024794,
     "end_time": "2023-05-04T22:50:15.617198",
     "exception": false,
     "start_time": "2023-05-04T22:50:15.592404",
     "status": "completed"
    },
    "tags": []
   },
   "outputs": [
    {
     "name": "stderr",
     "output_type": "stream",
     "text": [
      "/opt/conda/lib/python3.10/site-packages/sklearn/base.py:439: UserWarning: X does not have valid feature names, but LinearRegression was fitted with feature names\n",
      "  warnings.warn(\n"
     ]
    },
    {
     "data": {
      "text/plain": [
       "array([10.71582567])"
      ]
     },
     "execution_count": 29,
     "metadata": {},
     "output_type": "execute_result"
    }
   ],
   "source": [
    "a=[[2020,18,30000,0,1,0,0]]\n",
    "lin_reg_model.predict(a)"
   ]
  },
  {
   "cell_type": "code",
   "execution_count": null,
   "id": "3640d1f6",
   "metadata": {
    "papermill": {
     "duration": 0.011147,
     "end_time": "2023-05-04T22:50:15.639814",
     "exception": false,
     "start_time": "2023-05-04T22:50:15.628667",
     "status": "completed"
    },
    "tags": []
   },
   "outputs": [],
   "source": []
  }
 ],
 "metadata": {
  "kernelspec": {
   "display_name": "Python 3",
   "language": "python",
   "name": "python3"
  },
  "language_info": {
   "codemirror_mode": {
    "name": "ipython",
    "version": 3
   },
   "file_extension": ".py",
   "mimetype": "text/x-python",
   "name": "python",
   "nbconvert_exporter": "python",
   "pygments_lexer": "ipython3",
   "version": "3.10.10"
  },
  "papermill": {
   "default_parameters": {},
   "duration": 14.988111,
   "end_time": "2023-05-04T22:50:16.673719",
   "environment_variables": {},
   "exception": null,
   "input_path": "__notebook__.ipynb",
   "output_path": "__notebook__.ipynb",
   "parameters": {},
   "start_time": "2023-05-04T22:50:01.685608",
   "version": "2.4.0"
  }
 },
 "nbformat": 4,
 "nbformat_minor": 5
}
